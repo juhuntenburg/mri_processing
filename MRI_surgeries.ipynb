{
 "cells": [
  {
   "cell_type": "code",
   "execution_count": 2,
   "metadata": {
    "collapsed": true
   },
   "outputs": [],
   "source": [
    "%matplotlib inline"
   ]
  },
  {
   "cell_type": "code",
   "execution_count": 3,
   "metadata": {
    "collapsed": true
   },
   "outputs": [],
   "source": [
    "import numpy as np\n",
    "import nibabel as nb\n",
    "from glob import glob\n",
    "import matplotlib.pyplot as plt\n",
    "from ipywidgets import widgets, Layout\n",
    "from IPython.display import display"
   ]
  },
  {
   "cell_type": "markdown",
   "metadata": {},
   "source": [
    "### Mouse #1, 07/03/2018, Daniel"
   ]
  },
  {
   "cell_type": "code",
   "execution_count": 78,
   "metadata": {},
   "outputs": [
    {
     "data": {
      "application/vnd.jupyter.widget-view+json": {
       "model_id": "ab296c90b9194d9d9f2f7333599c4d7b",
       "version_major": 2,
       "version_minor": 0
      },
      "text/html": [
       "<p>Failed to display Jupyter Widget of type <code>interactive</code>.</p>\n",
       "<p>\n",
       "  If you're reading this message in the Jupyter Notebook or JupyterLab Notebook, it may mean\n",
       "  that the widgets JavaScript is still loading. If this message persists, it\n",
       "  likely means that the widgets JavaScript library is either not installed or\n",
       "  not enabled. See the <a href=\"https://ipywidgets.readthedocs.io/en/stable/user_install.html\">Jupyter\n",
       "  Widgets Documentation</a> for setup instructions.\n",
       "</p>\n",
       "<p>\n",
       "  If you're reading this message in another frontend (for example, a static\n",
       "  rendering on GitHub or <a href=\"https://nbviewer.jupyter.org/\">NBViewer</a>),\n",
       "  it may mean that your frontend doesn't currently support widgets.\n",
       "</p>\n"
      ],
      "text/plain": [
       "interactive(children=(IntSlider(value=4, description='z', max=7), Output()), _dom_classes=('widget-interact',))"
      ]
     },
     "metadata": {},
     "output_type": "display_data"
    }
   ],
   "source": [
    "exp = 'JH_inject_06'\n",
    "seq = '28' #gre = '28', se = '31', rare='29' or '11', flash='37'\n",
    "data = nb.load(glob(('/home/julia/projects/fmri_training/*%s*_nifti/*/*_%s/*_%s.nii.gz')%(exp,seq,seq))[0]).get_data()\n",
    "\n",
    "z = data.shape[2]//2\n",
    "def plot_z(z=z):\n",
    "    fig, axes = plt.subplots(1,1)\n",
    "    ax = axes\n",
    "    ax.axis('off')\n",
    "    ax.matshow((data[:, :, z]).T, cmap=\"Greys_r\", interpolation='none')\n",
    "    fig.set_size_inches(10, 10)\n",
    "    return fig\n",
    "\n",
    "widgets.interactive(plot_z,z=widgets.IntSlider(min=0, max=data.shape[2]-1,value=z))"
   ]
  },
  {
   "cell_type": "markdown",
   "metadata": {},
   "source": [
    "### Mouse #2, 08/03/2018"
   ]
  },
  {
   "cell_type": "code",
   "execution_count": 79,
   "metadata": {},
   "outputs": [
    {
     "data": {
      "application/vnd.jupyter.widget-view+json": {
       "model_id": "0d6f969e961f418a9e0b756cbf927f99",
       "version_major": 2,
       "version_minor": 0
      },
      "text/html": [
       "<p>Failed to display Jupyter Widget of type <code>interactive</code>.</p>\n",
       "<p>\n",
       "  If you're reading this message in the Jupyter Notebook or JupyterLab Notebook, it may mean\n",
       "  that the widgets JavaScript is still loading. If this message persists, it\n",
       "  likely means that the widgets JavaScript library is either not installed or\n",
       "  not enabled. See the <a href=\"https://ipywidgets.readthedocs.io/en/stable/user_install.html\">Jupyter\n",
       "  Widgets Documentation</a> for setup instructions.\n",
       "</p>\n",
       "<p>\n",
       "  If you're reading this message in another frontend (for example, a static\n",
       "  rendering on GitHub or <a href=\"https://nbviewer.jupyter.org/\">NBViewer</a>),\n",
       "  it may mean that your frontend doesn't currently support widgets.\n",
       "</p>\n"
      ],
      "text/plain": [
       "interactive(children=(IntSlider(value=7, description='z', max=13), Output()), _dom_classes=('widget-interact',))"
      ]
     },
     "metadata": {},
     "output_type": "display_data"
    }
   ],
   "source": [
    "exp = 'JH_inject_05'\n",
    "seq = '11' #gre = '11', se = '12', rare='10'\n",
    "data = nb.load(glob(('/home/julia/projects/fmri_training/*%s*_nifti/*/*_%s/*_%s.nii.gz')%(exp,seq,seq))[0]).get_data()\n",
    "\n",
    "z = data.shape[2]//2\n",
    "def plot_z(z=z):\n",
    "    fig, axes = plt.subplots(1,1)\n",
    "    ax = axes\n",
    "    ax.axis('off')\n",
    "    ax.matshow((data[:, :, z]).T, cmap=\"Greys_r\", interpolation='none')\n",
    "    fig.set_size_inches(10, 10)\n",
    "    return fig\n",
    "\n",
    "widgets.interactive(plot_z,z=widgets.IntSlider(min=0, max=data.shape[2]-1,value=z))"
   ]
  },
  {
   "cell_type": "markdown",
   "metadata": {},
   "source": [
    "### Mouse #3, 09/03/2018, cortex damaged, first scan"
   ]
  },
  {
   "cell_type": "code",
   "execution_count": 13,
   "metadata": {},
   "outputs": [
    {
     "data": {
      "application/vnd.jupyter.widget-view+json": {
       "model_id": "d2ade45a93d24e309b2db5f28ddcaad0",
       "version_major": 2,
       "version_minor": 0
      },
      "text/html": [
       "<p>Failed to display Jupyter Widget of type <code>interactive</code>.</p>\n",
       "<p>\n",
       "  If you're reading this message in the Jupyter Notebook or JupyterLab Notebook, it may mean\n",
       "  that the widgets JavaScript is still loading. If this message persists, it\n",
       "  likely means that the widgets JavaScript library is either not installed or\n",
       "  not enabled. See the <a href=\"https://ipywidgets.readthedocs.io/en/stable/user_install.html\">Jupyter\n",
       "  Widgets Documentation</a> for setup instructions.\n",
       "</p>\n",
       "<p>\n",
       "  If you're reading this message in another frontend (for example, a static\n",
       "  rendering on GitHub or <a href=\"https://nbviewer.jupyter.org/\">NBViewer</a>),\n",
       "  it may mean that your frontend doesn't currently support widgets.\n",
       "</p>\n"
      ],
      "text/plain": [
       "interactive(children=(IntSlider(value=10, description='z', max=19), Output()), _dom_classes=('widget-interact',))"
      ]
     },
     "metadata": {},
     "output_type": "display_data"
    }
   ],
   "source": [
    "exp = 'JH_inject_02'\n",
    "seq = '14' #gre = '31', se = '32', rare='14'\n",
    "data = nb.load(glob(('/home/julia/projects/fmri_training/*%s*_nifti/*/*_%s/*_%s.nii.gz')%(exp,seq,seq))[0]).get_data()\n",
    "\n",
    "z = data.shape[2]//2\n",
    "def plot_z(z=z):\n",
    "    fig, axes = plt.subplots(1,1)\n",
    "    ax = axes\n",
    "    ax.axis('off')\n",
    "    ax.matshow((data[:, :, z]).T, cmap=\"Greys_r\", interpolation='none')\n",
    "    fig.set_size_inches(10, 10)\n",
    "    return fig\n",
    "\n",
    "widgets.interactive(plot_z,z=widgets.IntSlider(min=0, max=data.shape[2]-1,value=z))"
   ]
  },
  {
   "cell_type": "markdown",
   "metadata": {},
   "source": [
    "### Mouse #3, 09/03/2018, cortex damaged, second scan"
   ]
  },
  {
   "cell_type": "code",
   "execution_count": 15,
   "metadata": {},
   "outputs": [
    {
     "data": {
      "application/vnd.jupyter.widget-view+json": {
       "model_id": "4fe205f2d5614d41bf1e3d5f84ca3ecd",
       "version_major": 2,
       "version_minor": 0
      },
      "text/html": [
       "<p>Failed to display Jupyter Widget of type <code>interactive</code>.</p>\n",
       "<p>\n",
       "  If you're reading this message in the Jupyter Notebook or JupyterLab Notebook, it may mean\n",
       "  that the widgets JavaScript is still loading. If this message persists, it\n",
       "  likely means that the widgets JavaScript library is either not installed or\n",
       "  not enabled. See the <a href=\"https://ipywidgets.readthedocs.io/en/stable/user_install.html\">Jupyter\n",
       "  Widgets Documentation</a> for setup instructions.\n",
       "</p>\n",
       "<p>\n",
       "  If you're reading this message in another frontend (for example, a static\n",
       "  rendering on GitHub or <a href=\"https://nbviewer.jupyter.org/\">NBViewer</a>),\n",
       "  it may mean that your frontend doesn't currently support widgets.\n",
       "</p>\n"
      ],
      "text/plain": [
       "interactive(children=(IntSlider(value=10, description='z', max=19), Output()), _dom_classes=('widget-interact',))"
      ]
     },
     "metadata": {},
     "output_type": "display_data"
    }
   ],
   "source": [
    "exp = 'JH_inject_08'\n",
    "seq = '8' #gre = '10', flash = 22, se = 21,23,24', rare='8/9'\n",
    "data = nb.load(glob(('/home/julia/projects/fmri_training/*%s*_nifti/*/*_%s/*_%s.nii.gz')%(exp,seq,seq))[0]).get_data()\n",
    "\n",
    "z = data.shape[2]//2\n",
    "def plot_z(z=z):\n",
    "    fig, axes = plt.subplots(1,1)\n",
    "    ax = axes\n",
    "    ax.axis('off')\n",
    "    ax.matshow((data[:, :, z]).T, cmap=\"Greys_r\", interpolation='none')\n",
    "    fig.set_size_inches(10, 10)\n",
    "    return fig\n",
    "\n",
    "widgets.interactive(plot_z,z=widgets.IntSlider(min=0, max=data.shape[2]-1,value=z))"
   ]
  },
  {
   "cell_type": "markdown",
   "metadata": {},
   "source": [
    "### Mouse #4, 12/03/2018,"
   ]
  },
  {
   "cell_type": "code",
   "execution_count": 76,
   "metadata": {},
   "outputs": [
    {
     "data": {
      "application/vnd.jupyter.widget-view+json": {
       "model_id": "a7ae0e7ce5bf48f8a308f1072ac33f1f",
       "version_major": 2,
       "version_minor": 0
      },
      "text/html": [
       "<p>Failed to display Jupyter Widget of type <code>interactive</code>.</p>\n",
       "<p>\n",
       "  If you're reading this message in the Jupyter Notebook or JupyterLab Notebook, it may mean\n",
       "  that the widgets JavaScript is still loading. If this message persists, it\n",
       "  likely means that the widgets JavaScript library is either not installed or\n",
       "  not enabled. See the <a href=\"https://ipywidgets.readthedocs.io/en/stable/user_install.html\">Jupyter\n",
       "  Widgets Documentation</a> for setup instructions.\n",
       "</p>\n",
       "<p>\n",
       "  If you're reading this message in another frontend (for example, a static\n",
       "  rendering on GitHub or <a href=\"https://nbviewer.jupyter.org/\">NBViewer</a>),\n",
       "  it may mean that your frontend doesn't currently support widgets.\n",
       "</p>\n"
      ],
      "text/plain": [
       "interactive(children=(IntSlider(value=10, description='z', max=19), Output()), _dom_classes=('widget-interact',))"
      ]
     },
     "metadata": {},
     "output_type": "display_data"
    }
   ],
   "source": [
    "exp = 'JH_inject_07'\n",
    "seq = '14' #gre = '15', se = '17', flash='18', rare='12' or 14'\n",
    "data = nb.load(glob(('/home/julia/projects/fmri_training/*%s*_nifti/*/*_%s/*_%s.nii.gz')%(exp,seq,seq))[0]).get_data()\n",
    "\n",
    "z = data.shape[2]//2\n",
    "def plot_z(z=z):\n",
    "    fig, axes = plt.subplots(1,1)\n",
    "    ax = axes\n",
    "    ax.axis('off')\n",
    "    ax.matshow((data[:, :, z]).T, cmap=\"Greys_r\", interpolation='none')\n",
    "    fig.set_size_inches(10, 10)\n",
    "    return fig\n",
    "\n",
    "widgets.interactive(plot_z,z=widgets.IntSlider(min=0, max=data.shape[2]-1,value=z))"
   ]
  },
  {
   "cell_type": "markdown",
   "metadata": {},
   "source": [
    "### Mouse #5, 14/03/2018"
   ]
  },
  {
   "cell_type": "code",
   "execution_count": 77,
   "metadata": {},
   "outputs": [
    {
     "data": {
      "application/vnd.jupyter.widget-view+json": {
       "model_id": "8c8b34ea172a4b54b003b496f3920b61",
       "version_major": 2,
       "version_minor": 0
      },
      "text/html": [
       "<p>Failed to display Jupyter Widget of type <code>interactive</code>.</p>\n",
       "<p>\n",
       "  If you're reading this message in the Jupyter Notebook or JupyterLab Notebook, it may mean\n",
       "  that the widgets JavaScript is still loading. If this message persists, it\n",
       "  likely means that the widgets JavaScript library is either not installed or\n",
       "  not enabled. See the <a href=\"https://ipywidgets.readthedocs.io/en/stable/user_install.html\">Jupyter\n",
       "  Widgets Documentation</a> for setup instructions.\n",
       "</p>\n",
       "<p>\n",
       "  If you're reading this message in another frontend (for example, a static\n",
       "  rendering on GitHub or <a href=\"https://nbviewer.jupyter.org/\">NBViewer</a>),\n",
       "  it may mean that your frontend doesn't currently support widgets.\n",
       "</p>\n"
      ],
      "text/plain": [
       "interactive(children=(IntSlider(value=10, description='z', max=19), Output()), _dom_classes=('widget-interact',))"
      ]
     },
     "metadata": {},
     "output_type": "display_data"
    }
   ],
   "source": [
    "exp = 'JH_inject_04'\n",
    "seq = '12' #gre = '14', se = '15', rare='12'\n",
    "data = nb.load(glob(('/home/julia/projects/fmri_training/*%s*_nifti/*/*_%s/*_%s.nii.gz')%(exp,seq,seq))[0]).get_data()\n",
    "\n",
    "z = data.shape[2]//2\n",
    "def plot_z(z=z):\n",
    "    fig, axes = plt.subplots(1,1)\n",
    "    ax = axes\n",
    "    ax.axis('off')\n",
    "    ax.matshow((data[:, :, z]).T, cmap=\"Greys_r\", interpolation='none')\n",
    "    fig.set_size_inches(10, 10)\n",
    "    return fig\n",
    "\n",
    "widgets.interactive(plot_z,z=widgets.IntSlider(min=0, max=data.shape[2]-1,value=z))"
   ]
  },
  {
   "cell_type": "code",
   "execution_count": null,
   "metadata": {
    "collapsed": true
   },
   "outputs": [],
   "source": []
  }
 ],
 "metadata": {
  "kernelspec": {
   "display_name": "Python 3",
   "language": "python",
   "name": "python3"
  },
  "language_info": {
   "codemirror_mode": {
    "name": "ipython",
    "version": 3
   },
   "file_extension": ".py",
   "mimetype": "text/x-python",
   "name": "python",
   "nbconvert_exporter": "python",
   "pygments_lexer": "ipython3",
   "version": "3.6.3"
  }
 },
 "nbformat": 4,
 "nbformat_minor": 2
}
