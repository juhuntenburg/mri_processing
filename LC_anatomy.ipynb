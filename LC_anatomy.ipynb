{
 "cells": [
  {
   "cell_type": "code",
   "execution_count": 1,
   "metadata": {
    "collapsed": true
   },
   "outputs": [],
   "source": [
    "%matplotlib inline"
   ]
  },
  {
   "cell_type": "code",
   "execution_count": 7,
   "metadata": {
    "collapsed": true
   },
   "outputs": [],
   "source": [
    "import numpy as np\n",
    "import nibabel as nb\n",
    "from glob import glob\n",
    "import matplotlib.pyplot as plt\n",
    "from ipywidgets import widgets, Layout\n",
    "from IPython.display import display\n",
    "from nipype.interfaces.ants import N4BiasFieldCorrection"
   ]
  },
  {
   "cell_type": "code",
   "execution_count": 25,
   "metadata": {
    "collapsed": true
   },
   "outputs": [],
   "source": [
    "path = '/home/julia/projects/lc/from_clem_nifti/CL180809visualfMRSLASER/CL180809visualfMRSLASER_19/'\n",
    "file = path + 'CL180809visualfMRSLASER_19.nii.gz'\n",
    "data_full = nb.load(file).get_data()\n",
    "affine =  nb.load(file).affine"
   ]
  },
  {
   "cell_type": "code",
   "execution_count": 27,
   "metadata": {
    "collapsed": true
   },
   "outputs": [],
   "source": [
    "data_singles = []\n",
    "data_names = []\n",
    "for i in range(data_full.shape[3]):\n",
    "    data_singles.append(data_full[:,:,:,i])\n",
    "    data_names.append(path + '19_vol%s.nii.gz'%i)"
   ]
  },
  {
   "cell_type": "code",
   "execution_count": 29,
   "metadata": {
    "collapsed": true
   },
   "outputs": [],
   "source": [
    "for d in range(len(data_singles)):\n",
    "    nb.save(nb.Nifti1Image(data_singles[d], affine), data_names[d])"
   ]
  },
  {
   "cell_type": "code",
   "execution_count": 31,
   "metadata": {
    "collapsed": true
   },
   "outputs": [
    {
     "name": "stdout",
     "output_type": "stream",
     "text": [
      "/home/julia/projects/lc/from_clem_nifti/CL180809visualfMRSLASER/CL180809visualfMRSLASER_19/19_vol0_corrected.nii.gz\n",
      "/home/julia/projects/lc/from_clem_nifti/CL180809visualfMRSLASER/CL180809visualfMRSLASER_19/19_vol1_corrected.nii.gz\n",
      "/home/julia/projects/lc/from_clem_nifti/CL180809visualfMRSLASER/CL180809visualfMRSLASER_19/19_vol2_corrected.nii.gz\n",
      "/home/julia/projects/lc/from_clem_nifti/CL180809visualfMRSLASER/CL180809visualfMRSLASER_19/19_vol3_corrected.nii.gz\n",
      "/home/julia/projects/lc/from_clem_nifti/CL180809visualfMRSLASER/CL180809visualfMRSLASER_19/19_vol4_corrected.nii.gz\n",
      "/home/julia/projects/lc/from_clem_nifti/CL180809visualfMRSLASER/CL180809visualfMRSLASER_19/19_vol5_corrected.nii.gz\n",
      "/home/julia/projects/lc/from_clem_nifti/CL180809visualfMRSLASER/CL180809visualfMRSLASER_19/19_vol6_corrected.nii.gz\n",
      "/home/julia/projects/lc/from_clem_nifti/CL180809visualfMRSLASER/CL180809visualfMRSLASER_19/19_vol7_corrected.nii.gz\n",
      "/home/julia/projects/lc/from_clem_nifti/CL180809visualfMRSLASER/CL180809visualfMRSLASER_19/19_vol8_corrected.nii.gz\n",
      "/home/julia/projects/lc/from_clem_nifti/CL180809visualfMRSLASER/CL180809visualfMRSLASER_19/19_vol9_corrected.nii.gz\n",
      "/home/julia/projects/lc/from_clem_nifti/CL180809visualfMRSLASER/CL180809visualfMRSLASER_19/19_vol10_corrected.nii.gz\n",
      "/home/julia/projects/lc/from_clem_nifti/CL180809visualfMRSLASER/CL180809visualfMRSLASER_19/19_vol11_corrected.nii.gz\n",
      "/home/julia/projects/lc/from_clem_nifti/CL180809visualfMRSLASER/CL180809visualfMRSLASER_19/19_vol12_corrected.nii.gz\n",
      "/home/julia/projects/lc/from_clem_nifti/CL180809visualfMRSLASER/CL180809visualfMRSLASER_19/19_vol13_corrected.nii.gz\n",
      "/home/julia/projects/lc/from_clem_nifti/CL180809visualfMRSLASER/CL180809visualfMRSLASER_19/19_vol14_corrected.nii.gz\n",
      "/home/julia/projects/lc/from_clem_nifti/CL180809visualfMRSLASER/CL180809visualfMRSLASER_19/19_vol15_corrected.nii.gz\n"
     ]
    }
   ],
   "source": [
    "for img in range(len(data_names)):\n",
    "    print(path + '19_vol%s_corrected.nii.gz'%img)\n",
    "    n4 = N4BiasFieldCorrection(input_image=data_names[img], dimension=3,\n",
    "                               n_iterations=[100,100,100,100], convergence_threshold=0.0,\n",
    "                               output_image= path + '19_vol%s_corrected.nii.gz'%img)\n",
    "    n4.run()"
   ]
  },
  {
   "cell_type": "code",
   "execution_count": 32,
   "metadata": {
    "collapsed": true
   },
   "outputs": [],
   "source": [
    "corrected_data = []\n",
    "for c in range(len(data_names)):\n",
    "    corrected_data.append(nb.load(path + '19_vol%s_corrected.nii.gz'%c).get_data())"
   ]
  },
  {
   "cell_type": "code",
   "execution_count": 101,
   "metadata": {
    "collapsed": true
   },
   "outputs": [],
   "source": [
    "for avgs in [3,4,5,6,7,8,9,10,11,12,13,14,15,16]:\n",
    "    nb.save(nb.Nifti1Image(np.average(corrected_data[:avgs], axis=0), affine), path + '19_avgs_%s.nii.gz'%avgs)"
   ]
  },
  {
   "cell_type": "code",
   "execution_count": 104,
   "metadata": {
    "collapsed": true
   },
   "outputs": [],
   "source": [
    "nb.save(nb.Nifti1Image(np.average(corrected_data[:], axis=0), affine), path + '19_avgs_all.nii.gz')"
   ]
  },
  {
   "cell_type": "code",
   "execution_count": 105,
   "metadata": {
    "collapsed": true
   },
   "outputs": [],
   "source": [
    "data = np.average(corrected_data[:], axis=0)"
   ]
  },
  {
   "cell_type": "code",
   "execution_count": 106,
   "metadata": {},
   "outputs": [
    {
     "data": {
      "application/vnd.jupyter.widget-view+json": {
       "model_id": "046baa1df53042568e859c0acd3f6970",
       "version_major": 2,
       "version_minor": 0
      },
      "text/html": [
       "<p>Failed to display Jupyter Widget of type <code>interactive</code>.</p>\n",
       "<p>\n",
       "  If you're reading this message in the Jupyter Notebook or JupyterLab Notebook, it may mean\n",
       "  that the widgets JavaScript is still loading. If this message persists, it\n",
       "  likely means that the widgets JavaScript library is either not installed or\n",
       "  not enabled. See the <a href=\"https://ipywidgets.readthedocs.io/en/stable/user_install.html\">Jupyter\n",
       "  Widgets Documentation</a> for setup instructions.\n",
       "</p>\n",
       "<p>\n",
       "  If you're reading this message in another frontend (for example, a static\n",
       "  rendering on GitHub or <a href=\"https://nbviewer.jupyter.org/\">NBViewer</a>),\n",
       "  it may mean that your frontend doesn't currently support widgets.\n",
       "</p>\n"
      ],
      "text/plain": [
       "interactive(children=(IntSlider(value=4, description='z', max=12), Output()), _dom_classes=('widget-interact',))"
      ]
     },
     "metadata": {},
     "output_type": "display_data"
    }
   ],
   "source": [
    "z = data.shape[2]//2\n",
    "def plot_z(z=z):\n",
    "    fig, axes = plt.subplots(1,1)\n",
    "    ax = axes\n",
    "    ax.axis('off')\n",
    "    ax.matshow((data[:, :, z]).T, cmap=\"Greys_r\", interpolation='none')#, vmin=1000, vmax=5000)\n",
    "    fig.set_size_inches(10, 10)\n",
    "    return fig\n",
    "\n",
    "interactive_plot_z = widgets.interactive(plot_z,z=widgets.IntSlider(min=0, max=data.shape[2]-1,value=4))\n",
    "display(interactive_plot_z)"
   ]
  },
  {
   "cell_type": "code",
   "execution_count": 92,
   "metadata": {
    "collapsed": true
   },
   "outputs": [],
   "source": [
    "data = np.average(corrected_data[:5], axis=0)"
   ]
  },
  {
   "cell_type": "code",
   "execution_count": 93,
   "metadata": {},
   "outputs": [
    {
     "data": {
      "application/vnd.jupyter.widget-view+json": {
       "model_id": "43c7dd416f0640b2aea28285e7010d40",
       "version_major": 2,
       "version_minor": 0
      },
      "text/html": [
       "<p>Failed to display Jupyter Widget of type <code>interactive</code>.</p>\n",
       "<p>\n",
       "  If you're reading this message in the Jupyter Notebook or JupyterLab Notebook, it may mean\n",
       "  that the widgets JavaScript is still loading. If this message persists, it\n",
       "  likely means that the widgets JavaScript library is either not installed or\n",
       "  not enabled. See the <a href=\"https://ipywidgets.readthedocs.io/en/stable/user_install.html\">Jupyter\n",
       "  Widgets Documentation</a> for setup instructions.\n",
       "</p>\n",
       "<p>\n",
       "  If you're reading this message in another frontend (for example, a static\n",
       "  rendering on GitHub or <a href=\"https://nbviewer.jupyter.org/\">NBViewer</a>),\n",
       "  it may mean that your frontend doesn't currently support widgets.\n",
       "</p>\n"
      ],
      "text/plain": [
       "interactive(children=(IntSlider(value=4, description='z', max=12), Output()), _dom_classes=('widget-interact',))"
      ]
     },
     "metadata": {},
     "output_type": "display_data"
    }
   ],
   "source": [
    "z = data.shape[2]//2\n",
    "def plot_z(z=z):\n",
    "    fig, axes = plt.subplots(1,1)\n",
    "    ax = axes\n",
    "    ax.axis('off')\n",
    "    ax.matshow((data[:, :, z]).T, cmap=\"Greys_r\", interpolation='none')#, vmin=1000, vmax=5000)\n",
    "    fig.set_size_inches(10, 10)\n",
    "    return fig\n",
    "\n",
    "interactive_plot_z = widgets.interactive(plot_z,z=widgets.IntSlider(min=0, max=data.shape[2]-1,value=4))\n",
    "display(interactive_plot_z)"
   ]
  },
  {
   "cell_type": "code",
   "execution_count": 56,
   "metadata": {
    "collapsed": true
   },
   "outputs": [],
   "source": [
    "data = np.average(data_rare[:,:,:,:6], axis=3)"
   ]
  },
  {
   "cell_type": "code",
   "execution_count": 15,
   "metadata": {
    "collapsed": true
   },
   "outputs": [],
   "source": [
    "def plot_x(x=data.shape[0]/2):\n",
    "    fig, axes = plt.subplots(1,1)\n",
    "    ax = axes\n",
    "    ax.axis('off')\n",
    "    ax.matshow((data[x, :, :]), cmap=\"Greys_r\", interpolation='nearest')\n",
    "    fig.set_size_inches(10, 10)\n",
    "    return fig"
   ]
  },
  {
   "cell_type": "code",
   "execution_count": 30,
   "metadata": {},
   "outputs": [
    {
     "data": {
      "application/vnd.jupyter.widget-view+json": {
       "model_id": "73c824b81fc04cda97d093c2af5b321d",
       "version_major": 2,
       "version_minor": 0
      },
      "text/html": [
       "<p>Failed to display Jupyter Widget of type <code>interactive</code>.</p>\n",
       "<p>\n",
       "  If you're reading this message in the Jupyter Notebook or JupyterLab Notebook, it may mean\n",
       "  that the widgets JavaScript is still loading. If this message persists, it\n",
       "  likely means that the widgets JavaScript library is either not installed or\n",
       "  not enabled. See the <a href=\"https://ipywidgets.readthedocs.io/en/stable/user_install.html\">Jupyter\n",
       "  Widgets Documentation</a> for setup instructions.\n",
       "</p>\n",
       "<p>\n",
       "  If you're reading this message in another frontend (for example, a static\n",
       "  rendering on GitHub or <a href=\"https://nbviewer.jupyter.org/\">NBViewer</a>),\n",
       "  it may mean that your frontend doesn't currently support widgets.\n",
       "</p>\n"
      ],
      "text/plain": [
       "interactive(children=(IntSlider(value=100, description='x', max=199), Output()), _dom_classes=('widget-interact',))"
      ]
     },
     "metadata": {},
     "output_type": "display_data"
    }
   ],
   "source": [
    "interactive_plot_x = wdg.interactive(plot_x,x=wdg.IntSlider(min=0, max=data.shape[0]-1, value=data.shape[0]//2))\n",
    "display(interactive_plot_x)"
   ]
  },
  {
   "cell_type": "code",
   "execution_count": 41,
   "metadata": {
    "collapsed": true
   },
   "outputs": [],
   "source": [
    "def plot_y(y=data.shape[0]/2):\n",
    "    fig, axes = plt.subplots(1,1)\n",
    "    ax = axes\n",
    "    ax.axis('off')\n",
    "    ax.matshow((data[:, y, :]).T, cmap=\"Greys_r\", interpolation='nearest')\n",
    "    fig.set_size_inches(10, 10)\n",
    "    return fig"
   ]
  },
  {
   "cell_type": "code",
   "execution_count": 42,
   "metadata": {},
   "outputs": [
    {
     "data": {
      "application/vnd.jupyter.widget-view+json": {
       "model_id": "b4082a2bb1f54797a9dff202465c9361",
       "version_major": 2,
       "version_minor": 0
      },
      "text/html": [
       "<p>Failed to display Jupyter Widget of type <code>interactive</code>.</p>\n",
       "<p>\n",
       "  If you're reading this message in the Jupyter Notebook or JupyterLab Notebook, it may mean\n",
       "  that the widgets JavaScript is still loading. If this message persists, it\n",
       "  likely means that the widgets JavaScript library is either not installed or\n",
       "  not enabled. See the <a href=\"https://ipywidgets.readthedocs.io/en/stable/user_install.html\">Jupyter\n",
       "  Widgets Documentation</a> for setup instructions.\n",
       "</p>\n",
       "<p>\n",
       "  If you're reading this message in another frontend (for example, a static\n",
       "  rendering on GitHub or <a href=\"https://nbviewer.jupyter.org/\">NBViewer</a>),\n",
       "  it may mean that your frontend doesn't currently support widgets.\n",
       "</p>\n"
      ],
      "text/plain": [
       "interactive(children=(IntSlider(value=80, description='y', max=159), Output()), _dom_classes=('widget-interact',))"
      ]
     },
     "metadata": {},
     "output_type": "display_data"
    }
   ],
   "source": [
    "interactive_plot_y = wdg.interactive(plot_y,y=wdg.IntSlider(min=0, max=data.shape[1]-1, value=data.shape[1]//2))\n",
    "display(interactive_plot_y)"
   ]
  },
  {
   "cell_type": "code",
   "execution_count": null,
   "metadata": {
    "collapsed": true
   },
   "outputs": [],
   "source": []
  }
 ],
 "metadata": {
  "kernelspec": {
   "display_name": "Python 3",
   "language": "python",
   "name": "python3"
  },
  "language_info": {
   "codemirror_mode": {
    "name": "ipython",
    "version": 3
   },
   "file_extension": ".py",
   "mimetype": "text/x-python",
   "name": "python",
   "nbconvert_exporter": "python",
   "pygments_lexer": "ipython3",
   "version": "3.6.3"
  }
 },
 "nbformat": 4,
 "nbformat_minor": 2
}
